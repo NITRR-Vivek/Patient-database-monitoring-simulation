{
 "cells": [
  {
   "cell_type": "markdown",
   "metadata": {},
   "source": [
    "### This Code will generate a excel file with multiple sheets of hospital's data for Indian People"
   ]
  },
  {
   "cell_type": "markdown",
   "metadata": {},
   "source": [
    "First install the faker package"
   ]
  },
  {
   "cell_type": "code",
   "execution_count": null,
   "metadata": {},
   "outputs": [],
   "source": [
    "!pip install faker"
   ]
  },
  {
   "cell_type": "markdown",
   "metadata": {},
   "source": [
    "then run the below code (customize the code as you want)"
   ]
  },
  {
   "cell_type": "code",
   "execution_count": 4,
   "metadata": {},
   "outputs": [
    {
     "name": "stdout",
     "output_type": "stream",
     "text": [
      "Synthetic data generated and exported to healthcare_data_indian.xlsx.\n"
     ]
    }
   ],
   "source": [
    "import pandas as pd\n",
    "from faker import Faker\n",
    "import random\n",
    "\n",
    "fake = Faker('en_IN')  # Use Indian locale for names and addresses\n",
    "\n",
    "# Function to generate synthetic data for the Patient table\n",
    "def generate_patient_data(num_rows):\n",
    "    data = {\n",
    "        'PatientID': list(range(1, num_rows + 1)),\n",
    "        'Name': [fake.name() for _ in range(num_rows)],\n",
    "        'DateOfBirth': [fake.date_of_birth(minimum_age=18, maximum_age=90) for _ in range(num_rows)],\n",
    "        'Gender': [random.choice(['Male', 'Female']) for _ in range(num_rows)],\n",
    "        'ContactNumber': [fake.phone_number() for _ in range(num_rows)],\n",
    "    }\n",
    "    return pd.DataFrame(data)\n",
    "\n",
    "# Function to generate synthetic data for the Doctor table\n",
    "def generate_doctor_data(num_rows):\n",
    "    data = {\n",
    "        'DoctorID': list(range(1, num_rows + 1)),\n",
    "        'Name': [fake.name() for _ in range(num_rows)],\n",
    "        'Specialization': [fake.job() for _ in range(num_rows)],\n",
    "        'ContactNumber': [fake.phone_number() for _ in range(num_rows)],    \n",
    "    }\n",
    "    return pd.DataFrame(data)\n",
    "\n",
    "# Function to generate synthetic data for the Nurse table\n",
    "def generate_nurse_data(num_rows):\n",
    "    data = {\n",
    "        'NurseID': list(range(1, num_rows + 1)),\n",
    "        'Name': [fake.name() for _ in range(num_rows)],\n",
    "        'Department': [fake.job() for _ in range(num_rows)],\n",
    "        'ContactNumber': [fake.phone_number() for _ in range(num_rows)],\n",
    "        }\n",
    "    return pd.DataFrame(data)\n",
    "\n",
    "# Function to generate synthetic data for the Appointment table\n",
    "def generate_appointment_data(num_rows, num_patients, num_doctors, num_nurses):\n",
    "    data = {\n",
    "        'AppointmentID': list(range(1, num_rows + 1)),\n",
    "        'Date': [fake.date_this_month() for _ in range(num_rows)],\n",
    "        'Time': [fake.time() for _ in range(num_rows)],\n",
    "        'Location': [fake.address() for _ in range(num_rows)],\n",
    "        'PatientID': [random.randint(1, num_patients) for _ in range(num_rows)],\n",
    "        'DoctorID': [random.randint(1, num_doctors) for _ in range(num_rows)],\n",
    "        'NurseID': [random.randint(1, num_nurses) for _ in range(num_rows)],\n",
    "    }\n",
    "    return pd.DataFrame(data)\n",
    "\n",
    "# Function to generate synthetic data for the Medical Record table\n",
    "def generate_medical_record_data(num_rows, num_patients):\n",
    "    data = {\n",
    "        'RecordID': list(range(1, num_rows + 1)),\n",
    "        'Date': [fake.date_this_month() for _ in range(num_rows)],\n",
    "        'Diagnosis': [fake.sentence() for _ in range(num_rows)],\n",
    "        'Prescription': [fake.sentence() for _ in range(num_rows)],\n",
    "        'PatientID': [random.randint(1, num_patients) for _ in range(num_rows)],\n",
    "    }\n",
    "    return pd.DataFrame(data)\n",
    "\n",
    "# Set the desired number of rows for each table\n",
    "num_rows_patient = 150\n",
    "num_rows_doctor = 20\n",
    "num_rows_nurse = 15\n",
    "num_rows_appointment = 150\n",
    "num_rows_medical_record = 120\n",
    "\n",
    "# Generate synthetic data for each table\n",
    "patient_data = generate_patient_data(num_rows_patient)\n",
    "doctor_data = generate_doctor_data(num_rows_doctor)\n",
    "nurse_data = generate_nurse_data(num_rows_nurse)\n",
    "appointment_data = generate_appointment_data(num_rows_appointment, num_rows_patient, num_rows_doctor, num_rows_nurse)\n",
    "medical_record_data = generate_medical_record_data(num_rows_medical_record, num_rows_patient)\n",
    "\n",
    "# Create Excel file\n",
    "with pd.ExcelWriter('healthcare_data_indian.xlsx', engine='openpyxl') as writer:\n",
    "    patient_data.to_excel(writer, sheet_name='Patient', index=False)\n",
    "    doctor_data.to_excel(writer, sheet_name='Doctor', index=False)\n",
    "    nurse_data.to_excel(writer, sheet_name='Nurse', index=False)\n",
    "    appointment_data.to_excel(writer, sheet_name='Appointment', index=False)\n",
    "    medical_record_data.to_excel(writer, sheet_name='MedicalRecord', index=False)\n",
    "\n",
    "print(\"Synthetic data generated and exported to healthcare_data_indian.xlsx.\")\n"
   ]
  },
  {
   "cell_type": "markdown",
   "metadata": {},
   "source": [
    "### below code will generate different csv files"
   ]
  },
  {
   "cell_type": "code",
   "execution_count": 1,
   "metadata": {},
   "outputs": [
    {
     "name": "stdout",
     "output_type": "stream",
     "text": [
      "Synthetic data generated and exported to CSV files.\n"
     ]
    }
   ],
   "source": [
    "import pandas as pd\n",
    "from faker import Faker\n",
    "import random\n",
    "\n",
    "fake = Faker('en_IN')  # Use Indian locale for names and addresses\n",
    "\n",
    "\n",
    "\n",
    "# Function to generate synthetic data for the Patient table\n",
    "def generate_patient_data(num_rows):\n",
    "    data = {\n",
    "        'PatientID': list(range(1, num_rows + 1)),\n",
    "        'Name': [fake.name() for _ in range(num_rows)],\n",
    "        'DateOfBirth': [fake.date_of_birth(minimum_age=18, maximum_age=90) for _ in range(num_rows)],\n",
    "        'Gender': [random.choice(['Male', 'Female']) for _ in range(num_rows)],\n",
    "        'City': [fake.city() for _ in range(num_rows)],\n",
    "        'ContactNumber': [fake.phone_number() for _ in range(num_rows)],\n",
    "    }\n",
    "    return pd.DataFrame(data)\n",
    "\n",
    "# Function to generate synthetic data for the Doctor table\n",
    "def generate_doctor_data(num_rows):\n",
    "    data = {\n",
    "        'DoctorID': list(range(1, num_rows + 1)),\n",
    "        'Name': [fake.name() for _ in range(num_rows)],\n",
    "        'Specialization': [fake.job().replace(',', ';') for _ in range(num_rows)],\n",
    "        'ContactNumber': [fake.phone_number() for _ in range(num_rows)],\n",
    "        'Salary': [fake.random_int(min=50000, max=150000) for _ in range(num_rows)],\n",
    "    }\n",
    "    return pd.DataFrame(data)\n",
    "\n",
    "# Function to generate synthetic data for the Nurse table\n",
    "def generate_nurse_data(num_rows):\n",
    "    data = {\n",
    "        'NurseID': list(range(1, num_rows + 1)),\n",
    "        'Name': [fake.name() for _ in range(num_rows)],\n",
    "        'Department': [fake.job().replace(',', ';') for _ in range(num_rows)],\n",
    "        'ContactNumber': [fake.phone_number() for _ in range(num_rows)],\n",
    "    }\n",
    "    return pd.DataFrame(data)\n",
    "\n",
    "# Function to generate synthetic data for the Appointment table\n",
    "def generate_appointment_data(num_rows, num_patients, num_doctors, num_nurses):\n",
    "    data = {\n",
    "        'AppointmentID': list(range(1, num_rows + 1)),\n",
    "        'Date': [fake.date_this_month() for _ in range(num_rows)],\n",
    "        'Time': [fake.time() for _ in range(num_rows)],\n",
    "        'Location': [fake.address().replace('\\n', ' ').replace(',','') for _ in range(num_rows)],\n",
    "        'PatientID': [random.randint(1, num_patients) for _ in range(num_rows)],\n",
    "        'DoctorID': [random.randint(1, num_doctors) for _ in range(num_rows)],\n",
    "        'NurseID': [random.randint(1, num_nurses) for _ in range(num_rows)],\n",
    "    }\n",
    "    return pd.DataFrame(data)\n",
    "\n",
    "# Function to generate synthetic data for the Medical Record table\n",
    "def generate_medical_record_data(num_rows, num_patients):\n",
    "    data = {\n",
    "        'RecordID': list(range(1, num_rows + 1)),\n",
    "        'Date': [fake.date_this_month() for _ in range(num_rows)],\n",
    "        'Diagnosis': [fake.sentence() for _ in range(num_rows)],\n",
    "        'Prescription': [fake.sentence() for _ in range(num_rows)],\n",
    "        'PatientID': [random.randint(1, num_patients) for _ in range(num_rows)],\n",
    "    }\n",
    "    return pd.DataFrame(data)\n",
    "\n",
    "# Set the desired number of rows for each table\n",
    "num_rows_patient = 150\n",
    "num_rows_doctor = 20\n",
    "num_rows_nurse = 15\n",
    "num_rows_appointment = 150\n",
    "num_rows_medical_record = 120\n",
    "\n",
    "# Generate synthetic data for each table\n",
    "patient_data = generate_patient_data(num_rows_patient)\n",
    "doctor_data = generate_doctor_data(num_rows_doctor)\n",
    "nurse_data = generate_nurse_data(num_rows_nurse)\n",
    "appointment_data = generate_appointment_data(num_rows_appointment, num_rows_patient, num_rows_doctor, num_rows_nurse)\n",
    "medical_record_data = generate_medical_record_data(num_rows_medical_record, num_rows_patient)\n",
    "\n",
    "# Create CSV files\n",
    "patient_data.to_csv('patient_data.csv', index=False)\n",
    "doctor_data.to_csv('doctor_data.csv', index=False)\n",
    "nurse_data.to_csv('nurse_data.csv', index=False)\n",
    "appointment_data.to_csv('appointment_data.csv', index=False)\n",
    "medical_record_data.to_csv('medical_record_data.csv', index=False)\n",
    "\n",
    "print(\"Synthetic data generated and exported to CSV files.\")\n"
   ]
  }
 ],
 "metadata": {
  "kernelspec": {
   "display_name": "Python 3",
   "language": "python",
   "name": "python3"
  },
  "language_info": {
   "codemirror_mode": {
    "name": "ipython",
    "version": 3
   },
   "file_extension": ".py",
   "mimetype": "text/x-python",
   "name": "python",
   "nbconvert_exporter": "python",
   "pygments_lexer": "ipython3",
   "version": "3.10.2"
  }
 },
 "nbformat": 4,
 "nbformat_minor": 2
}
